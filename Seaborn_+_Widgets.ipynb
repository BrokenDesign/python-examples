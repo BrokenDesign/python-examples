{
  "nbformat": 4,
  "nbformat_minor": 0,
  "metadata": {
    "colab": {
      "name": "Seaborn + Widgets.ipynb",
      "provenance": [],
      "collapsed_sections": [],
      "toc_visible": true,
      "authorship_tag": "ABX9TyNSR/iDZwcrnsOUzzUh50Wa"
    },
    "kernelspec": {
      "name": "python3",
      "display_name": "Python 3"
    },
    "language_info": {
      "name": "python"
    },
    "widgets": {
      "application/vnd.jupyter.widget-state+json": {
        "5b95b816f527403ba5e8cd92e936ddc6": {
          "model_module": "@jupyter-widgets/output",
          "model_name": "OutputModel",
          "model_module_version": "1.0.0",
          "state": {
            "_dom_classes": [],
            "_model_module": "@jupyter-widgets/output",
            "_model_module_version": "1.0.0",
            "_model_name": "OutputModel",
            "_view_count": null,
            "_view_module": "@jupyter-widgets/output",
            "_view_module_version": "1.0.0",
            "_view_name": "OutputView",
            "layout": "IPY_MODEL_2a916bc97490447eb2024e0a75ccc548",
            "msg_id": "",
            "outputs": [
              {
                "output_type": "display_data",
                "data": {
                  "text/plain": "<Figure size 360x360 with 1 Axes>",
                  "image/png": "iVBORw0KGgoAAAANSUhEUgAAAVwAAAFcCAYAAACEFgYsAAAABHNCSVQICAgIfAhkiAAAAAlwSFlzAAALEgAACxIB0t1+/AAAADh0RVh0U29mdHdhcmUAbWF0cGxvdGxpYiB2ZXJzaW9uMy4yLjIsIGh0dHA6Ly9tYXRwbG90bGliLm9yZy+WH4yJAAAgAElEQVR4nO3deXRb9Z03/vfVvtqybEmWl9iJEztOyIadpKUJlISQFBKYMmVoU+BXWug5/TEpPTzpwEOZpIVyppkwnBkGWjqdmf7m95CWTp9SpqGBBIYCCWXLvjl2Fse7LVmybGvf7vOHkzwJiRPZlu7V8n6d03NqX0n3c5H0ztff+10EURRFEBFRxinkLoCIqFAwcImIJMLAJSKSCAOXiEgiDFwiIokwcImIJKKSu4B08Hj8SCanNrqtpMSAoaFgmirKHbzuwlOo1y7Vddts5nGPsYV7jkqllLsEWfC6C0+hXns2XDcDl4hIIgxcIiKJMHCJiCTCwCUikggDl4hIIgxcIiKJMHCJiCTCwCUikggDl4hIIgxcIiKJMHCJiCTCwCUikggDl4hIInmxPCNln2KLARq19KszRWMJDPsKb+lByg0MXMoIjVqJX7x6SPLzPnTXAsnPSZQqdikQEUmEgUtEJBEGLhGRRBi4REQS4U0zymnBcBxDoxGEo3GIIvDfn3bColehymaCQiHIXR7RJRi4lHNEUUS3O4D2vhH4/NFLjh3vGAIAFJs0WNrowC3NVSgr1stRJtFlGLiUU0aDUexvG8RwIAqzQY05tSWwFetg0KkgQMC6L87EvmN92N82iP/e143/3teNLy6sxJ3Lp8OkV8tdPhU4Bi7ljB53AAdPDUKpFHD9rDJU2owQhEu7DarsZmgF4IbrnPCOhPH6hx1450A39rW58K21czC31ipT9US8aUY5or1vBPva3Cg2afDFhRWospsuC9vPshbpcP/qBmz6fxZDr1XhH145iFf++yTiiaREVRNdioFLWa9zYBRHznhRbtXj83Md0Gkm9odZTbkZm76xGDdfX4ldn3bhH397CIFQLEPVEo2PgUtZze0L4eApD2wWHZoa7FAqJveR1aqVuO/WBnzztka0dvrw2Au74R0Jp7laoqtjHy5lrWA4jr2tbpgNaiyebYcyDcO8ls13oqRIi5+9dhTP/K99+Jv1i+AoMUzpNblQD6WKgUtZSRRF7G9zQxRFLJ5th0qZvj/G5tZa8ZOHl+GJn36Av//VAfzN1xbBYZ186HKhHkoVuxQoK53qGYZ3NIJ5M0ozMpxrekUx/uZrixCLJ7HlV/sx4GVLkTKPgUtZxx+KobXTB2epAVU2Y8bOU2U34W++tgjxhIhnXzmAodFIxs5FBDBwKcuIoojDpz1QKATMm2G95tCvqaqym/DoPQvgD8fx3G8Ows/RC5RBDFzKKv3eEAaHw2isKZnw8K/Jqi0vwnfvmoeBoSCe/9+HEYklJDkvFR4GLmUNURRxomMIRp0KNeVmSc/dWGvFt9fNxemeYfzbH1uQFEVJz0+FgYFLWaPL5cdoKIbGmhIoMtyVcCXNs+34ys112HvChf/a3S75+Sn/cVgYZYVEMonWTh8sJg2cpVMbFzsVa5ZMQ58niO1/PovyUgM+P7dctloo/7CFS1nhbN8oQtEEGmtKMn6j7GoEQcD9qxvQUG3BL3e04FT3sGy1UP6RJHCHhobw0EMPYfXq1Vi3bh3++q//Gl6vFwBw8OBB3HHHHVi9ejW++c1vwuPxSFESZZFEMolTPcMoK9bBZpF/7VqVUoGH75oHq1mHf371MAaHQ3KXRHlCksAVBAEPPvggdu7cie3bt6O6uhrPPvsskskkvv/972PTpk3YuXMnmpub8eyzz0pREmWRbncAkVgSs6qK5S7lApNejUfuno94IokXf38UsThHLtDUSRK4FosFS5cuvfDzwoUL0dvbi6NHj0Kr1aK5uRkA8NWvfhVvvvmmFCVRlhBFEad7RlBs1KCsWCd3OZdwlhrx4No56Ogfxcu72uQuh/KA5H24yWQSv/71r7FixQr09fWhoqLiwjGr1YpkMgmfzyd1WSQT11AI/lAMdZVFsvbdjmfRLBvW3lCD3Yf78N7BHrnLoRwn+SiFp59+GgaDAffeey/eeuuttLxmaakpLa9js0k79jNbZOq6jUbtNR/TfnwABp0Ks6ZZ07LpYyKRTPl6Un3cg19egF5PCNveOon5DQ7UTyu57DGpXGsmTPa942ddHpIG7pYtW9DR0YGXXnoJCoUCTqcTvb29F457vV4oFApYLJYJva7H40cyObWB6jabGW736JReIxdl6rptNjMCgauvTeDzR+AaCmFObQlCoehVH5sqpVKR0spdRqP2mvVdzF6shUalwA9+9gFuWlgB7UXLMT5014IJvVY6Tea942c98+cZj2RdCs899xyOHj2KF198ERqNBgBw3XXXIRwOY+/evQCAV155BWvWrJGqJJJZe98olAoBNY7sb21p1Eosnm1DNJbAgZODEDkTjSZBkhbuyZMn8fOf/xy1tbX46le/CgCoqqrCiy++iL//+7/H5s2bEYlEUFlZia1bt0pREsksFk+idzCAKpsRalVuDAcvNmkxd7oVR854caZ3BHWV2TOqgnKDJIE7a9YstLa2XvHY9ddfj+3bt0tRBmWRbrcfiaSYE63bi9WWmzE4HMbxjiFYi3QoMcvTd0u5KTeaFpRXRFFEx4AfRUYNik0aucuZEEEQsGBmKXQaJfa1uRGLcwdgSh0DlyQ37I9iJBBFjePaW51nI41KiaZ6G0LhOA6f9rA/l1LGwCXJdQyM3SyrsqVnOJ8crEU6zK6xoGcwgD/t65K7HMoRDFySVDyRRLc7gIqy3LlZNp6ZlcWwFmnxL78/glAkLnc5lANy+xNPOafPE0QiKWKaPXdbt+cJgoBFM8sQT4o4eIpDxejaGLgkqR53AHqtEtai/Li7b9Sr8cDauXD7wugY8MtdDmU5Bi5JJhJNwO0LocqWmzfLxvOlz9eirFiHY+1eBMLchJLGx8AlyfQMBiACqCzL3NbnclAoBCycVQZBAA5yFhpdBQOXJNPj9qPIoEaRMbfG3qbCoFVh7nQrPCMRnO0vvHUKKDUMXJJEIBTDkD+KyhweCnYt0+wmlBXr0NIxhHCUoxbocgxckkT3YAAAUGXLr+6EiwmCgPl1pUgmRRxt98pdDmUhBi5JoscdQGmRFnptfm8UbdKrMavKgt7BIFxD3AuNLsXApYwbDUbhD8VQkWc3y8Yzs6oYJr0Kh894kEhyrQX6vxi4lHG9niAAwGk1yFyJNJQKAfNmlCIYjuN0z4jc5VAWYeBSxvUNBmA1a6HL8+6Ei9ksepRbDTjZPYwwp/3SOQxcyih/KIaRYAzO0sJo3V5sbm0JRFFES+eQ3KVQlmDgUkb1ne9OKJD+24sZ9WrMqChClyuAoVF59jyj7MLApYzq8wRgMWlgKKDuhIvVV1mgVStwrN3LGWjEwKXMCYbj8PmjcJYWXuv2PJVKgfpqC7yjEQ4TIwYuZU6fd2yyQ0UB9t9erMZhhkGnQkvnEFu5BY6BSxnT7wnBbFDDqFfLXYqsFAoBs6dZMBKIoefcjDsqTAxcyojRYBTekTDKC2Ts7bVUlhlRZFDjRKcPySRbuYWKgUsZsa9lACLAwD1HEATMrilBMBxHl4sLlRcqBi5lxMfH+qFVK2DJsW3QM8lRoofFpMHJ7mEk2ZdbkBi4lHbxRBL7W11wWA15tbPDVAmCgPoqC4KROHrc7MstRAxcSrvWLh+C4TjKS9id8FkOqx5FBjVOdg9zxEIBYuBS2h08OQiNSoEyi07uUrKOIAiYVW2BPxS7MAuPCgcDl9JKFEUcPDmIhfV2qJT8eF1JRakBJr0Kbd0+tnILDL8RlFY97gA8I2EsmeuQu5SsJQgCZlYWYyQQg9sXlrsckhADl9Lq8BkPAKC5kYF7NVU2E7RqJU73DstdCkmIgUtpdeS0B1U2E0qL9XKXktUUCgHTnWa4fWGMBKNyl0MSYeBS2oQicZzqGca8OqvcpeSEmnIzlAoBZ3q5K0ShYOBS2hw/60UiKWL+jFK5S8kJWrUSVXYTul1+RKIJucshCTBwKW2OnPFAr1WirrJY7lJyRp2zCEkRONs/KncpJAEGLqWFKIo4csaLOTVWDgebAJNBDXuJHmf7R7moTQHgN4PSosc9to3MvDp2J0zU9HIzIrEE+r2cCJHvGLiUFkfODQebx/7bCbOX6KHXKtmtUAAYuJQWR86MDQcrMWvlLiXnCIKA2nIzBofD8AdjcpdDGcTApSkLReI42c3hYFMxzW6GIPDmWb5j4NKUHT87xOFgU6TVKFFRakSXy494Iil3OZQhDFyaMg4HS4/acjNiiSR6ue9Z3mLg0pSMDQfzcDhYGliLtDDpVejkFjx5i98QmpKeQQ4HSxdBEFBtN8M7EoE/xJtn+YiBS1NyrN0LALhuOm+YpUO13QgB4EaTeYqBS1NyrN0LZ6kB1iLu7pAOOo0K9hI9ulx+Lk6ehxi4NGmxeAJtXT7MrWXrNp2qHSaEowm4fCG5S6E0Y+DSpJ3sHkY0nsQcdiekVXmJARqVAl0D7FbINwxcmrRjZ71QKgTMnmaRu5S8olAIqLKZ0OcNIhrjso35hIFLk3as3Yu6ymLoNCq5S8k71XYjRBHo5c6+eYWBS5MyEoiic8CPuexOyIgiowYmvRrdbnYr5BMGLk3K8Q4OB8skQRBQZTPCOxJBMBKXuxxKEwYuTcqxdi+MOhVqHGa5S8lblTYjgLG1hik/MHBpwkRRxPGzQ2istUKhEOQuJ28ZdWqUmLXsVsgjDFyasF5PEEOjEcytLZG7lLxXZTNiNBjDSIBbqecDBi5N2PFz03k54SHzKkrHpvp2s1shLzBwacKOnfXCUaJHmUUvdyl5T6tRwlaiR88gp/rmAwYuTUgsnsSJziEOB5NQVZkRoUgC3tGI3KXQFDFwaUJO9wwjGksycCVUXmqAUiGwWyEPMHBpQo6d9UIhCJg9jTfMpKJSKlBuNaB3MIBkkt0KuYyBSxMyNp23CHotp/NKqdJmRCyehHuYK4jlMskCd8uWLVixYgUaGhrQ1tZ24fcrVqzAmjVrcOedd+LOO+/E7t27pSqJJmg0GEVH/yhHJ8jAZtFDpRTQO8i1FXKZZM2UlStX4v7778fXv/71y449//zzqK+vl6oUmqSWjiGIAPtvZaBUCCi3GtDvDSKZFDnhJEdJ1sJtbm6G0+mU6nSUAcfavdBrVah1cjqvHCrKxroVBtmtkLOyoiNu48aNEEURTU1NePTRR1FUVDSh55eWmtJSh81WmEGSynWLoogTXT4srLeh3JHaduhGo3aqpU1KqudNZ31SXGutXo0DJwfhGo5getXYTcvJfmb5WZeH7IG7bds2OJ1ORKNRPPPMM3jqqafw7LPPTug1PB7/lO/e2mxmuN2jU3qNXJTqdfd7g3APhbBmcXVKj7fZzAgE5Bk3msp5jUZtWuuT6lodJXp0DYxizrlF3yfzmeVnPfPnGY/soxTOdzNoNBqsX78e+/fvl7kiupLzu/NyOx15VZSe71YIy10KTYKsgRsMBjE6OvYvjiiK2LFjBxobG+UsicZx/KwXZcU62DmdV1a2Et250QqcBJGLJOtS+PGPf4xdu3ZhcHAQDzzwACwWC1566SVs2LABiUQCyWQSdXV12Lx5s1QlUYoSybHpvItnOyAIvDsuJ6VCAYfVgD5vEPFEUu5yaIIkC9wnn3wSTz755GW/f+2116QqgSapvXcUoUiCw8GyREWpET3uAA6fGkS1lX9x5BLZ+3Ap+x0764UAoLGG03mzgd2ig1Ih4INDvXKXQhPEwKVrOnbWi5pyM0x6tdylEADlubUVPjzSx26FHMPApasKReI40zPC7oQsU1FmwGgwitZOn9yl0AQwcOmqTnQOISmKmMP1E7KK3aKHTqPEvlaX3KXQBDBw6aqOnx2CRq3AzMrUZpeRNJRKBZoaHdjf5uaSjTmEgUtXdfysF/XVFqhV/Khkmy/Mr8BIMIaT3exWyBX8FtG4vCNh9HmCXI4xSzU3OqBWKbC31S13KZQiBi6N69hZ7s6bzfRaFa6bbh3rVuAGkzlB9sVrKLOKLQZo1MqrPma8xTZO943CYtZi4ZxyzjDLUs0Ndhw4OYgzvSPsZ88BDNw8p1Er8YtXD417fLxVs0RRxEdH+2Cz6PGvvz884fM+dNeCCT+HJm7BzFIoFQL2tboYuDmAXQp0RSOBKKKxJGxcrCarGXRqzJ1uxd4TbojsVsh6DFy6IrdvbPk/W7FO5kroWprqbfCMhNExUHhr3OYaBi5dkXs4BLNezd15c8CiehsUgoB9HK2Q9Ri4dJlEMgnPSAQ2C1u3ucCkV2N2jQV7T7jYrZDlGLh0Ge9IBMmkyP7bHNLUYMfAUAg9bi5Mns0YuHQZty8EQQBK2X+bM66vt0EAsJdrK2Q1Bi5dxu0Lw2rWQqXkxyNXFBs1mFVtYT9uluM3ii4RiSUwHIiyOyEHNTfY0DMYQJ+H3QrZioFLlxg8PxyMgZtzmhrsAMC1FbIYA5cu4faFoFYqYDFp5C6FJqjErEVdRRHXyM1iDFy6QBRFuIdDKLPouHZCjmpqsKNzwA+XLyR3KXQFDFy6IBCOIxRJcHZZDmtqsAEAW7lZioFLF7jPtYrYf5u7bBY9asrNHK2QpRi4dIHbF4JBq4KRu/PmtOYGG870jsA7Epa7FPoMBi4BAJJJEW5fGPYStm5z3fnRCmzlZp+UA/eNN9644u/ffPPNtBVD8vGOhpHgdN68UG41oMpmZD9uFko5cH/wgx9c8febNm1KWzEkH9fQ2HRe3jDLD00NdpzsHsaw//LF5Uk+11x7r6urC8DYkKHz///iYxoNx2vmA5cvBKtZBxV3580LzQ02/Needuxvc+Pm66vkLofOuWbgrlq1CoIgQBRFrFq16pJjZWVl2LBhQ8aKI2mEI3GMBGJorDHJXQqlSUWZEeVWA/a2MnCzyTUD98SJEwCAe++9Fy+//HLGCyLpnR8kzxtm+UMQBDQ12PDGR50YDUZhNvAv0WyQ8t+PDNv85faFoVUrUWTgcLB80txgR1IUceDkoNyl0Dkp75/S1dWFf/zHf0RLSwuCweAlx959991010USSYoiXL4Qyq16TufNM9McJpQV67C31YUbF1TIXQ5hAoG7ceNGVFdX47HHHoNezz8984V3OIxYPAk7h4PlHUEQ0Dzbjrc+7UIgHINRx79g5JZy4J48eRK//vWvoVDwLnY+Ob92Ksff5qemBhve/LgTB08O4gvznHKXU/BSTs/Fixfj+PHjmayFZNA3GECJSQONWil3KZQB051FKDFrOessS6Tcwq2srMSDDz6IVatWoays7JJjjzzySNoLo8yLxhLwDocxq7pY7lIoQxTnRiu8e6AXoUic297LLOUWbigUws0334x4PI7+/v5L/ke5yT0chgiw/zbPNTfYEU8kcfi0R+5SCl7K/9z93d/9XSbrIBm4hkLQqBSwmLVyl0IZNLOyGMVGDfa1urB0jkPucgrahIaFjae6ujotxZB0RFGEayiE8lIjFBwOltcUCgHX19vwwdE+RGIJucspaCkH7sVTfM87P26zpaUl/ZVRRo0EY4jEEnCWGeUuhSTQ1GDDnw704OgZD6oqLHKXU7BSDtzzU3zPc7vdeOGFF9Dc3Jz2oijzXENj03nLS40QE2z15LuGaRaY9Grsa3VjzbI6ucspWJMeVGuz2fCDH/wAzz33XDrrIYm4fSGYDWoYdLxrXQiUCgUWzSrDwVODiMX5D6xcpjSL4cyZMwiFuDtoronHk/CMcHeHQtM8245wNIEDbRyTK5eUmzfr16+/ZK59KBTCqVOn8PDDD2ekMMoc13AIogg4Sgxyl0ISaqwpgV6rwgeHejH9lllyl1OQUg7cu++++5Kf9Xo9Zs+ejdra2nTXRBnm8oagUgqwcjhYQVEpFVg4swyfHOvHV2+ug0rJafpSSzlwv/zlL2eyDpKIKIoYGArCXqKHQsHhYIWmebYNHx7rx4nOIVw3vVTucgpOyv/ExWIxPP/881i5ciXmzZuHlStX4vnnn0c0Gs1kfZRmw/4oIrEkuxMK1HXTrdBrldh7gv24cki5hbt161YcPnwYP/rRj1BRUYHe3l789Kc/hd/vxxNPPJHJGimN+ofG1jLmDbPCpFYpsbixHPtbXbj31np2K0gs5f/ab775Jn72s59h2bJlmDFjBpYtW4YXXnhh3O3TKTu5hkIoMWuh5epgBWv5okr4QzG0dAzJXUrBSTlwL55hlsrvKfuEo3H4/FE42LotaE2z7TBoVfjo2IDcpRSclAN3zZo1+M53voPdu3fj9OnTeP/99/Hwww9jzZo1mayP0uj87DKHlf23hUytUqJ5tg37T7q5toLEUu7D/f73v4+f/exneOqpp+ByueBwOHD77bfjO9/5TibrozQaGApBp+FmkQQsnVOO9w/14dCpQSxp5ApiUrlmC3ffvn3YunUrNBoNHnnkEbz11ls4dOgQdu3ahWg0yl0gckQiObY6mKOEm0US0FBtQYlZy24FiV0zcH/+859j8eLFVzy2dOlSvPTSS2kvitLPOxJGIimyO4EAjC3ZuKTRjiNnPPCHYnKXUzCuGbgtLS1Yvnz5FY/dcMMNOHr0aNqLovQb8AahEICyYp3cpVCW+NycciSSIva2uuQupWBcM3D9fj9isSv/CxiPxxEIBNJeFKXX2OyyEMoseo67pAumOUwotxrwMbsVJHPNb9+MGTOwZ8+eKx7bs2cPZsyYkfaiKL38oRgC4TiHg9ElBEHA5+Y60Nblg3ckLHc5BeGagfuNb3wDmzdvxq5du5BMJgEAyWQSu3btwg9/+EM88MADGS+SpqbfOza7rJz9t/QZS+c4IAL4pIXdClK45rCwdevWYXBwEI899hhisRgsFgt8Ph/UajW++93vYu3atVLUSVPQ7w2h2KjhFtl0GUeJAdOdRfjoWD/WLJ0mdzl5L6Vv4AMPPIC7774bBw4cgM/ng8ViwaJFi2AymVI6yZYtW7Bz50709PRg+/btqK+vBwC0t7fj8ccfv/CaW7Zs4XKPaTY0EsbQaAQN07iPFV3Z5+c68Ku3T6LL5Ue1PbXvNE1OyndQTCYTli9fjnXr1mH58uUphy0ArFy5Etu2bUNlZeUlv9+8eTPWr1+PnTt3Yv369di0aVPqlVNKPjneD4DdCTS+pXMcUCoEfHCkT+5S8p4kt6ybm5vhdDov+Z3H48Hx48cvdEmsXbsWx48fh9frlaKkgvHR0X4YtCrOLqNxmQ0aLJhZho+ODyCeSMpdTl6TrVOvr68PDocDSuXYqlVKpRJ2ux19fX2wWq0Teq3S0vT8GWSzmdPyOtkiFInj0Ek3plcUw2Qaf/yt0ZiZnR8y9brpOm8665PrWif7mf3s8770hel45pefoMsbwpI55ekoLSvJ/R3Pi7soHo8fyeTUVi2z2cxwu0fTVFF22NfqQiyeRJlZg0AgcsXHGI3acY9NVaZeNx3nTfd1y3Wtk/nMXumzXlNmgNmgxht7zmC6zZiu8rKKVN/xq4W6bKPgnU4nBgYGkEiMrVaUSCTgcrku63qgydvfNgiTXg0rZ5fRNaiUCiyd48DBU4Oc6ptBsgVuaWkpGhsb8frrrwMAXn/9dTQ2Nk64O4GuLJFM4vDpQSye44CCi9VQCpbNcyKeEPFJC2eeZYokgfvjH/8YN954I/r7+/HAAw/g9ttvBwD88Ic/xMsvv4zVq1fj5Zdfxo9+9CMpyikIJ7uGEQjHsfQ6/sVAqZnmMKPKZuJohQySpA/3ySefxJNPPnnZ7+vq6vDb3/5WihIKzoGTg1ApFbi+wY7jp7hhIKVm2bxyvPLOKfQMBlBZlp99uXLiSiZ5SBRFHDjpxpzaEs4uowlZOrccCkHAn9nKzQgGbh7qcvkxOBzGolllcpdCOabYqMH8ulJ8eKx/yiN/6HIM3Dy0t9UNQQAW1dvkLoVy0A3XlcPnj+LYWU5CSjcGbh7a1+pCQ7UFRQaN3KVQDlowswxGnYo3zzKAgZtnegYD6PME0dRgl7sUylFq1diY3P1tgwiGOSY3nRi4eWbfue1Srmd3Ak3BF+Y5EU8k8fFxjslNJwZuntl7wo2ZVcUoMcszt5/yQ2352Jjc9w+zWyGdGLh5ZMAbRLfbj2a2bmmKBEHATQsr0NE/io7+/FpjRE4M3DxyfvdV9t9SOnxurgMqpQK7D/fKXUreYODmkX2tbkx3mlHKxWooDYw6NZpn2/DhsQFEYwm5y8kLDNw8MTgcwtn+UbZuKa1unF+BUCSOfa2cHp4ODNw8cf4L0dTA/ltKn4ZpFthL9Hj/ELsV0oGBmyf2tbpRbTfBUcK9yyh9BEHA8vlOtHb50O8Nyl1OzmPg5oGh0QhO9Qyjma1byoAvzHNCIQjYzVbulDFw88D+tvPdCey/pfSzmLRYMLMUHxzp4yaTU8TAzQN7T7jgLDWgguuXUoYsX1CBkWAMh0555C4lpzFwc9xwIIq2bh+a2bqlDJo3wwqLScMxuVPEwM1x+9vcEEWOTqDMUioUWDbfiSNnPPCOhOUuJ2cxcHPcpy0DKLcaUG03yV0K5bll8ysgisAeLts4aQzcHDY0GkFrpw9LGu0QuDMvZZjdokdjTQl2H+pDUuRuEJPBwM1he0+4IAJY0uiQuxQqEDcuqIBnJIyWs0Nyl5KTuMNgDvukZQDVdhNHJxSoRCIJm808qedO9nm33mDAtrfb8P6hXsydbp3UaxQyBm6OcvtCON07gr+8aYbcpZBMlEoFfvHqoQk/z2jUIhCITPq8K5qq8ccP2jESjHIbpwlil0KO+vTE2FKM7E4gqd26tAaJpIg/H+mXu5Scw8DNUZ8cH8CMiiLYLHq5S6ECU+MswszKYrx/qBcib55NCAM3B/V5Auh0+dm6JdncuKAC/d4g2rp8cpeSUxi4OejTFhcEAItnc3YZyWNxox16rQrvcUGbCWHg5hhRFPFxywDqqy3cKJJko1Ur8bm5Duw94YY/xK3UU8XAzTHd7gD6PEEsmcPuBJLXTQsqEE8k8eFR3jxLFdLLgQgAABPnSURBVAM3x3zSMgCFIHDtBJLdNIcZ051FeI83z1LGwM0hoiji4+MDmFNbwvGPlBVuWliB3sEATveMyF1KTmDg5pD2vlEMDoc5OoGyxpJGO7QaJd472CN3KTmBgZtDPmkZgEop4Pr6MrlLIQIA6DQqfG6OA5+ecCEY5s2za2Hg5ohkcmx0wrwZpTDo1HKXQ3TBTQsrEI0n8eGxAblLyXoM3BzR0jGEYX8Un59bLncpRJeoLS9CjcOM9w7y5tm1cPEaCRVbDNColZN67oG3T8KoU2Hl52on/RpEmXLjwgr8r52taO8bxYyKIrnLyVoMXAlp1MpJre4UTyTx3v5uVNqM+I/tRyf03IfuWjDh8xFN1OfmOPCbd07ivYM9DNyrYJdCDuj3BpFIiqiycRsdyk56rQpLGh34pMWFUCQudzlZi4GbA7rdAeg1SpQWcSovZa+bFlYgEkvg4+O8eTYeBm6WC0cTcA+FUGkzcd8yymoznEWospnw3kEuaDMeBm6W6x0MQARQbec2OpTdBEHATQsr0DEwirP9nHl2JQzcLNft9qPYqIGZU3kpB3x+rgNqlQLvs5V7RQzcLOYPxuDzR1FlY+uWcoNBp8bi2XZ8dHwA4Shvnn0WAzeLdbv9AIBKBi7lkJsWViAcTeCTFpfcpWQdBm6WEkUR3e4AbBYddBoOl6bcMbOyGM5SA2+eXQEDN0t5RyMIRuIce0s5Z+zmWSXa+0bQOTAqdzlZhYGbpbrdASgVApylBrlLIZqwG64rh0qpwPvc8+wSDNwslEyK6B0MoNxqgErJt4hyj0mvRnODDR8eG0AklpC7nKzBb3MW6vcGEYsnUcWxt5TDblpYgVAkjr0nePPsPN6NyUJdLj90GiXsFr3cpRBdJpFIwmYzX/NxZWUmVL7Vhj8fG8BfrKif0jmjsQSGfcEpvUY2YOBmmXA0DtdQCHWVxZzKS1lJqVSkvOpdsVGD42e9+IeXP53SPnz5suoduxSyTLd7bCrvNDtHJ1Duq7abIAhAZz9HKwAM3KwiiiK6BvwoMWthMnAbHcp9WrUSTqsBXe4AEsmk3OXIjoGbRXz+KEZDMbZuKa/UlJsRiyfRN5j7fbBTxcDNIl0uP5QKARVlHJ1A+aOsWAeDToUOToJg4GaLRDKJHncA5aUGqFV8Wyh/CIKAGocJnpEI/MHC3kqd3+ws0e8JIZZIsjuB8tL5m2eF3spl4GaJTtco9Folyop1cpdClHY6jQrlVgO6XH4kkoW7lToDNwuEInG4fWFUcxsdymM1DjOi8ST6PYV78ywrJj6sWLECGo0GWu3YJokbN27E8uXLZa5KOp0DY+veVjvYnUD5y2bRQa9VomNgtGDXeM6KwAWA559/HvX1U5v+l4tEUUTnwChsFh2MOo69pfw1dvPMjBOdPgRCMRj1hfd5Z5eCzFxDIYSiCdQ4rj03nSjXVdtNEAB0nPurrtBkTQt348aNEEURTU1NePTRR1FUVJTyc0tL0/OneCoLckyV0ai95OfutkHoNErUVZdAochM/+1nzznR45k6b6aket501pft15qu56XjvBU2E7rcflzf6IByAp/5dHw/pfiOX01WBO62bdvgdDoRjUbxzDPP4KmnnsKzzz6b8vM9Hj+SU7zzabOZ4XZndsiKzWZGIBC58HM4Ekev24+6yiKEQtGMnffic36W0ai96vFMnTeTUjlvuq87m6/1s9Jx7VN5flWZAT1uP850DU1oks9Uv59SfMfPn2c8WdGl4HQ6AQAajQbr16/H/v37Za5IGp0u/9hCNexOoAJiL9FDp1EW5Jhc2QM3GAxidHTsP7woitixYwcaGxtlrirzRFFEx8Aoyop1MBXgzQMqXIIgYJrDBLcvjGC4sGaeyd6l4PF4sGHDBiQSCSSTSdTV1WHz5s1yl5Vxbl8YoUgCc2qtcpdCJLlpDjPauobROeDH7JoSucuRjOyBW11djddee03uMiTXMTAKjVoBp5WbRFLhMWhVsJfo0THgR/00CxQFMuFH9i6FQhSOxtHvDaLabsrYyASibFfjMCMSS2DAG5K7FMkwcGVwtn8UogiOvaWC5rDqoVUX1s0zBq7EkkkRHf1+2Ev0vFlGBU0hCKgpN8E1FII/VBg3zxi4Euv1BBCJJTDDydYtUa3DDEEAzvYVRiuXgSux9t4RGHUq2LgFOhF0WhUqSo3odI0insj/Pc8YuBJq6xzCkD+K6c4iLsNIdM70CjPiCRFdrvxfX4GBK6Hte85ApRRQzV0diC4oMWlhMWnQ3jcKUczvxckZuBIZ9kew52APqu0m7llGdBFBEDDdWQR/KAb3cFjucjKK33yJvHewF/GEiOnO1FdBIyoUFWVGaNQKtPeOyF1KRjFwJRBPJPGngz24fradQ8GIrkCpEFDrMGNgKIRAHg8RY+BK4JOWAQz7o1i3bIbcpRBlrdrysSFi7f35O0SMgZthoijijY87UWkzomm2Xe5yiLLWhSFiA6OIxfNziBgDN8OOnPGgxx3AmiXTOBSM6BrqKosQT4joyNNWLgM3w3Z81AlrkRZL5zjkLoUo61lMWpQV63CmbwSJKe7iko0YuBl0umcYbV0+3Lp4GlRK/qcmSsXMymKEown0uPNvIgRTIIPe+LgTRp0KNy5wyl0KUc6wWXQoMqpxqmck7yZCMHAzpNvlx/42N1ZcXwWdRvZ13olyhiAImFlRDH8ohoGh/Forl4GbIf/1QTv0WiVWLa6WuxSinFNRZoReq0Rbly+vWrkM3Azocvmxr9WNW5qqOdGBaBIUCgGzqizw+aNw+/KnlcvAzYA/nGvd3rqErVuiyZpmN0GvVaK1azhvWrkM3DQ737pd1VwNo46tW6LJUigEzKosxtBoBAfb3HKXkxYM3DT7/ftn2HdLlCbVDjN0GiV+vas1L1q5DNw0au0cwsFTg7jtczVs3RKlgVIhYFZVMVrOenG03St3OVPGwE2TpCjiP/90CiVmLVY1s3VLlC41DjPKSw347Z9OI5njs88YuGnyaYsL7X2juOvGGdColXKXQ5Q3FAoB939pDrrdfnx4rF/ucqaEgZsGsXgSv3vvNKrtJnx+brnc5RDlnS8sqEBtuRm/330GsXhC7nImjYGbBjs/6cTgcBh331wHhYIrghGlm0Ih4O6bZ8I7EsHb+7rlLmfSGLhT5PaFsP3PZ9HUYMN100vlLocobzXWlGB+XSle//NZDPsjcpczKQzcKRBFEdveaoNCEPC1lbPkLoco73115SzE4kn85k+n5C5lUhi4U7C/bRCHT3tw57LpsBbp5C6HKO+VWw340tIafHRsAC0dQ3KXM2EM3EkKhmP41dttqLIZcUtzldzlEBWM2z9fA5tFh5d3tSKeyK2teBi4k7TtrTYM+6P4xpcaubg4kYQ0aiW+vqoBfZ4gdnzUIXc5E8KkmIS9J1z48NgA1t5QgxkVRXKXQ1Rw5teVYkmjHds/OJtT+58xcCfI54/gP948gdpyM9beUCt3OUQF695bG1Bk1OBfth9DNJYbY3MZuBOQSCbxi+3HEYsn8dC6OexKIJKRSa/GN29rRJ8niP/97mm5y0kJE2MCfvfeGbR0DOHrt9bDWWqUuxyigjd3uhW3NFXh7X3dOHhyUO5yromBm6JPWgbw5seduHlRJZbPr5C7HCI65ytfrENNuRn/sv0Y+jwBucu5KgZuCjoHRvHLHScws7IYX7uFExyIsolGrcSGu+ZBrVLg+d8dQTAck7ukcTFwr8E1FMRz/3kIRr0K3/mL69hvS5SFrEU6PPzleRj0hfDSH45l7fhcpsdV+PwR/MNvDiKZFPE/7lmIErNW7pKIaBz11Rbce2s9jp7x4l9fP56Va+eq5C4gWw0HonjuNwcxEojh+19bxJtkRDngpoWVCEUS+M8/nYJGpcQ3bpsNhZA9K/gxcK/AMxzGs68cwJA/gu/+5XxObiDKIWuWTkM4GscfPjgLQQDuX9MApSI7/phn4H5GnyeAf/jNQYQiCWy8ZxFmVhXLXRIRTdCdy6ZDFIHtfz4Lnz+K7/zFXLlLAsA+3EscPj2IH///+xCPJ/HYeoYtUa4SBAFfvnEG7l/TgGPtXvxk2364vEG5y2LgAmMbQP7m7Vb8028Pw1asw5P3N2Oawyx3WUQ0RV9cWInvfmUeXEMhfPe5d7H3hEvWego+cL0jYTz3m4N4+Y0TWDrHgf95XxPKLHq5yyKiNJlfV4YfPrAYlTYjfvraUfz7jhb4Q/KM1S3YPlxRFPHno/341dsnkUyK+H+/sgBNdVYIWXRHk4jSw15iwJa/Xo5//f1hvPFRJw6eHMRXvliHZfOdko5iKMjA7XL58au32tDa5cPMqmI8eHsj5tY74HbnzjJvRDQxKqUCf3lTHZY0OvDyrlb8f2+cwNt7u3HnslosqrdJErwFF7i7D/XiP95shUGnwv1rGnDj/ArutEtUQKrtJjz+9evxccsA/mvPWbz4+6Ooshlx6+JpWNJoh0atzNi5Cy5w9VoV7rhxBv7qlnqYDZpLjtlsvFFGlI0SiWRavp8Xv8Y6exFuWz4Tuw9047fvnMS/72jBb989jVVLpmHF4mrUlBchGktg2Je+0Q0FF7jNs+2w2cz4xauHLvm90ahFIJDZrZcfumtBRl+fKF8plYrLvrMTdbXv+IIZVlSVGtDeP4rfv3sKr757CsVGDf7nN5bAbtZc8TmTUXCBS0T0WYIgoMyiR5lFj0g0gZ7BAHoGAzjTMwz7bFvazsPAJSK6iFajxIyKIsyoKMK65TPSejO94MfhEhFJhYFLRCQRBi4RkUQYuEREEmHgEhFJhIFLRCSRrAjc9vZ23HPPPVi9ejXuuecenD17Vu6SiIjSLisCd/PmzVi/fj127tyJ9evXY9OmTXKXRESUdrJPfPB4PDh+/Dh++ctfAgDWrl2Lp59+Gl6vF1arNaXXmMziMyaD+pKfDTo1BDHzWyt/9rxSuNo5M3ndclxrqudN93Vn87V+VjquPds+x6mY7HWnc3ErQRRFWfcSPnr0KB577DH88Y9/vPC72267DVu3bsXcudmxDxERUTpkRZcCEVEhkD1wnU4nBgYGkEgkAACJRAIulwtOp1PmyoiI0kv2wC0tLUVjYyNef/11AMDrr7+OxsbGlPtviYhyhex9uABw+vRpPP744xgZGUFRURG2bNmCGTNmyF0WEVFaZUXgEhEVAtm7FIiICgUDl4hIIgxcIiKJMHCJiCRSUIH7wgsvoKGhAW1tbQCAgwcP4o477sDq1avxzW9+Ex6P58Jjr3Ys13z2uhsaGrBu3TrceeeduPPOO9Ha2nrhse+88w7WrFmDVatW4Xvf+x5CoZBcZU/JihUrsGbNmgvXuHv3bgD5/56Pd935/p5HIhFs3rwZt956K9atW4e//du/BXD1hbFkWTRLLBBHjx4Vv/Wtb4k333yz2NraKiYSCfGWW24RP/30U1EURfHFF18UH3/8cVEUxaseyzWfvW5RFMX6+nrR7/df9li/3y/ecMMNYnt7uyiKovjEE0+I//zP/yxluWlz8fWeVwjv+ZWuWxTz/z1/+umnxWeeeUZMJpOiKIqi2+0WRVEU77vvPvG1114TRVEUX3vtNfG+++678JyrHcuUggjcSCQi/tVf/ZXY1dV14QN56NAh8fbbb7/wGI/HIy5cuFAURfGqx3LJla5bFMf/8u3YsUP89re/feHnw4cPi7fddptk9abTlYKnEN7ziQZuPrznfr9fbGpquuz6BgcHxaamJjEej4uiKIrxeFxsamoSPR7PVY9lkuyrhUnhn/7pn3DHHXegqqrqwu/6+vpQUVFx4Wer1YpkMgmfz3fVYxaLRdLap+JK133efffdh0QigRtvvBEbNmyARqO57LorKirQ19cnZclptXHjRoiiiKamJjz66KMF8Z4Dl193UVERgPx9z7u6umCxWPDCCy/g448/htFoxCOPPAKdTgeHwwGlUgkAUCqVsNvt6OvrgyiK4x7L5CzXvO/DPXDgAI4ePYr169fLXYqkrnbd7777Ll599VVs27YNp06dwosvvihDhZm1bds2/OEPf8Dvfvc7iKKIp556Su6SJDHedefze55IJNDV1YU5c+bg1VdfxcaNG7FhwwYEg0G5S7tM3gfup59+itOnT2PlypVYsWIF+vv78a1vfQsdHR3o7e298Div1wuFQgGLxQKn0znusVwx3nXv2bPnwsJAJpMJd999N/bv3w8Al113b29vzi4idL5ujUaD9evXY//+/Vd9X/PhPQeufN0X/z4f33On0wmVSoW1a9cCABYsWICSkhLodLpxF8aSa9GsvA/cb3/729izZw/eeecdvPPOOygvL8e//du/4cEHH0Q4HMbevXsBAK+88grWrFkDALjuuuvGPZYrxrvuefPmIRwOAwDi8Th27tyJxsZGAMDy5ctx5MiRC3drX3nlFXzpS1+S6xImLRgMYnR0FAAgiiJ27NiBxsbGq76v+fCej3fdw8PDef2eW61WLF26FB988AGAsdEHHo8HtbW14y6MJdeiWQW3lsKKFSvw0ksvob6+Hvv378fmzZsRiURQWVmJrVu3oqysDACueiwXnb/uQCCATZs2QRAExONxLFq0CE888QSMRiMA4O2338bWrVuRTCbR2NiIn/zkJzAYDDJXPzFdXV3YsGEDEokEkskk6urq8OSTT8Jut+f1ez7edff09BTEe/7EE0/A5/NBpVLhe9/7Hm666aarLowlx6JZBRe4RERyyfsuBSKibMHAJSKSCAOXiEgiDFwiIokwcImIJMLAJSKSCAOXiEgiDFwiIon8HzTIJKD5QP39AAAAAElFTkSuQmCC\n"
                },
                "metadata": {}
              }
            ],
            "tabbable": null,
            "tooltip": null
          }
        },
        "2a916bc97490447eb2024e0a75ccc548": {
          "model_module": "@jupyter-widgets/base",
          "model_name": "LayoutModel",
          "model_module_version": "2.0.0",
          "state": {
            "_model_module": "@jupyter-widgets/base",
            "_model_module_version": "2.0.0",
            "_model_name": "LayoutModel",
            "_view_count": null,
            "_view_module": "@jupyter-widgets/base",
            "_view_module_version": "2.0.0",
            "_view_name": "LayoutView",
            "align_content": null,
            "align_items": null,
            "align_self": null,
            "border_bottom": null,
            "border_left": null,
            "border_right": null,
            "border_top": null,
            "bottom": null,
            "display": null,
            "flex": null,
            "flex_flow": null,
            "grid_area": null,
            "grid_auto_columns": null,
            "grid_auto_flow": null,
            "grid_auto_rows": null,
            "grid_column": null,
            "grid_gap": null,
            "grid_row": null,
            "grid_template_areas": null,
            "grid_template_columns": null,
            "grid_template_rows": null,
            "height": null,
            "justify_content": null,
            "justify_items": null,
            "left": null,
            "margin": null,
            "max_height": null,
            "max_width": null,
            "min_height": null,
            "min_width": null,
            "object_fit": null,
            "object_position": null,
            "order": null,
            "overflow": null,
            "padding": null,
            "right": null,
            "top": null,
            "visibility": null,
            "width": null
          }
        },
        "32872fd155c54b20a1ec1b7a3ede16f3": {
          "model_module": "@jupyter-widgets/controls",
          "model_name": "VBoxModel",
          "model_module_version": "2.0.0",
          "state": {
            "_dom_classes": [],
            "_model_module": "@jupyter-widgets/controls",
            "_model_module_version": "2.0.0",
            "_model_name": "VBoxModel",
            "_view_count": null,
            "_view_module": "@jupyter-widgets/controls",
            "_view_module_version": "2.0.0",
            "_view_name": "VBoxView",
            "box_style": "",
            "children": [
              "IPY_MODEL_3da3cd47d43047b19faf197346364d00",
              "IPY_MODEL_8a2a66686eeb46bcb31ac4745e851416",
              "IPY_MODEL_43c82f8a23f444558d1d71964266a1d8"
            ],
            "layout": "IPY_MODEL_913e03cd5698456ea8d5b2eb29a71fee",
            "tabbable": null,
            "tooltip": null
          }
        },
        "3da3cd47d43047b19faf197346364d00": {
          "model_module": "@jupyter-widgets/controls",
          "model_name": "IntSliderModel",
          "model_module_version": "2.0.0",
          "state": {
            "_dom_classes": [],
            "_model_module": "@jupyter-widgets/controls",
            "_model_module_version": "2.0.0",
            "_model_name": "IntSliderModel",
            "_view_count": null,
            "_view_module": "@jupyter-widgets/controls",
            "_view_module_version": "2.0.0",
            "_view_name": "IntSliderView",
            "behavior": "drag-tap",
            "continuous_update": true,
            "description": "Parent",
            "description_allow_html": false,
            "disabled": false,
            "layout": "IPY_MODEL_cbe19013ccb64d26a034cf8c7b6c4a16",
            "max": 10000,
            "min": 100,
            "orientation": "horizontal",
            "readout": true,
            "readout_format": "d",
            "step": 100,
            "style": "IPY_MODEL_ce51a718a59747809aaa6578a7ab50ad",
            "tabbable": null,
            "tooltip": null,
            "value": 1000
          }
        },
        "8a2a66686eeb46bcb31ac4745e851416": {
          "model_module": "@jupyter-widgets/controls",
          "model_name": "IntSliderModel",
          "model_module_version": "2.0.0",
          "state": {
            "_dom_classes": [],
            "_model_module": "@jupyter-widgets/controls",
            "_model_module_version": "2.0.0",
            "_model_name": "IntSliderModel",
            "_view_count": null,
            "_view_module": "@jupyter-widgets/controls",
            "_view_module_version": "2.0.0",
            "_view_name": "IntSliderView",
            "behavior": "drag-tap",
            "continuous_update": true,
            "description": "# Samples",
            "description_allow_html": false,
            "disabled": false,
            "layout": "IPY_MODEL_8769dbce993f4590a057e5c0503658db",
            "max": 1000,
            "min": 10,
            "orientation": "horizontal",
            "readout": true,
            "readout_format": "d",
            "step": 10,
            "style": "IPY_MODEL_e957433311c54f65a040b1f5b127d0f4",
            "tabbable": null,
            "tooltip": null,
            "value": 100
          }
        },
        "43c82f8a23f444558d1d71964266a1d8": {
          "model_module": "@jupyter-widgets/controls",
          "model_name": "IntSliderModel",
          "model_module_version": "2.0.0",
          "state": {
            "_dom_classes": [],
            "_model_module": "@jupyter-widgets/controls",
            "_model_module_version": "2.0.0",
            "_model_name": "IntSliderModel",
            "_view_count": null,
            "_view_module": "@jupyter-widgets/controls",
            "_view_module_version": "2.0.0",
            "_view_name": "IntSliderView",
            "behavior": "drag-tap",
            "continuous_update": true,
            "description": "Sample Size",
            "description_allow_html": false,
            "disabled": false,
            "layout": "IPY_MODEL_40f6e5f9cd334a9a8c0f9694b71d9d5f",
            "max": 100,
            "min": 10,
            "orientation": "horizontal",
            "readout": true,
            "readout_format": "d",
            "step": 10,
            "style": "IPY_MODEL_6edf0c5397df4b539dd63f17de3ba08e",
            "tabbable": null,
            "tooltip": null,
            "value": 50
          }
        },
        "913e03cd5698456ea8d5b2eb29a71fee": {
          "model_module": "@jupyter-widgets/base",
          "model_name": "LayoutModel",
          "model_module_version": "2.0.0",
          "state": {
            "_model_module": "@jupyter-widgets/base",
            "_model_module_version": "2.0.0",
            "_model_name": "LayoutModel",
            "_view_count": null,
            "_view_module": "@jupyter-widgets/base",
            "_view_module_version": "2.0.0",
            "_view_name": "LayoutView",
            "align_content": null,
            "align_items": null,
            "align_self": null,
            "border_bottom": null,
            "border_left": null,
            "border_right": null,
            "border_top": null,
            "bottom": null,
            "display": null,
            "flex": null,
            "flex_flow": null,
            "grid_area": null,
            "grid_auto_columns": null,
            "grid_auto_flow": null,
            "grid_auto_rows": null,
            "grid_column": null,
            "grid_gap": null,
            "grid_row": null,
            "grid_template_areas": null,
            "grid_template_columns": null,
            "grid_template_rows": null,
            "height": null,
            "justify_content": null,
            "justify_items": null,
            "left": null,
            "margin": null,
            "max_height": null,
            "max_width": null,
            "min_height": null,
            "min_width": null,
            "object_fit": null,
            "object_position": null,
            "order": null,
            "overflow": null,
            "padding": null,
            "right": null,
            "top": null,
            "visibility": null,
            "width": null
          }
        },
        "cbe19013ccb64d26a034cf8c7b6c4a16": {
          "model_module": "@jupyter-widgets/base",
          "model_name": "LayoutModel",
          "model_module_version": "2.0.0",
          "state": {
            "_model_module": "@jupyter-widgets/base",
            "_model_module_version": "2.0.0",
            "_model_name": "LayoutModel",
            "_view_count": null,
            "_view_module": "@jupyter-widgets/base",
            "_view_module_version": "2.0.0",
            "_view_name": "LayoutView",
            "align_content": null,
            "align_items": null,
            "align_self": null,
            "border_bottom": null,
            "border_left": null,
            "border_right": null,
            "border_top": null,
            "bottom": null,
            "display": null,
            "flex": null,
            "flex_flow": null,
            "grid_area": null,
            "grid_auto_columns": null,
            "grid_auto_flow": null,
            "grid_auto_rows": null,
            "grid_column": null,
            "grid_gap": null,
            "grid_row": null,
            "grid_template_areas": null,
            "grid_template_columns": null,
            "grid_template_rows": null,
            "height": null,
            "justify_content": null,
            "justify_items": null,
            "left": null,
            "margin": null,
            "max_height": null,
            "max_width": null,
            "min_height": null,
            "min_width": null,
            "object_fit": null,
            "object_position": null,
            "order": null,
            "overflow": null,
            "padding": null,
            "right": null,
            "top": null,
            "visibility": null,
            "width": null
          }
        },
        "ce51a718a59747809aaa6578a7ab50ad": {
          "model_module": "@jupyter-widgets/controls",
          "model_name": "SliderStyleModel",
          "model_module_version": "2.0.0",
          "state": {
            "_model_module": "@jupyter-widgets/controls",
            "_model_module_version": "2.0.0",
            "_model_name": "SliderStyleModel",
            "_view_count": null,
            "_view_module": "@jupyter-widgets/base",
            "_view_module_version": "2.0.0",
            "_view_name": "StyleView",
            "description_width": "",
            "handle_color": null
          }
        },
        "8769dbce993f4590a057e5c0503658db": {
          "model_module": "@jupyter-widgets/base",
          "model_name": "LayoutModel",
          "model_module_version": "2.0.0",
          "state": {
            "_model_module": "@jupyter-widgets/base",
            "_model_module_version": "2.0.0",
            "_model_name": "LayoutModel",
            "_view_count": null,
            "_view_module": "@jupyter-widgets/base",
            "_view_module_version": "2.0.0",
            "_view_name": "LayoutView",
            "align_content": null,
            "align_items": null,
            "align_self": null,
            "border_bottom": null,
            "border_left": null,
            "border_right": null,
            "border_top": null,
            "bottom": null,
            "display": null,
            "flex": null,
            "flex_flow": null,
            "grid_area": null,
            "grid_auto_columns": null,
            "grid_auto_flow": null,
            "grid_auto_rows": null,
            "grid_column": null,
            "grid_gap": null,
            "grid_row": null,
            "grid_template_areas": null,
            "grid_template_columns": null,
            "grid_template_rows": null,
            "height": null,
            "justify_content": null,
            "justify_items": null,
            "left": null,
            "margin": null,
            "max_height": null,
            "max_width": null,
            "min_height": null,
            "min_width": null,
            "object_fit": null,
            "object_position": null,
            "order": null,
            "overflow": null,
            "padding": null,
            "right": null,
            "top": null,
            "visibility": null,
            "width": null
          }
        },
        "e957433311c54f65a040b1f5b127d0f4": {
          "model_module": "@jupyter-widgets/controls",
          "model_name": "SliderStyleModel",
          "model_module_version": "2.0.0",
          "state": {
            "_model_module": "@jupyter-widgets/controls",
            "_model_module_version": "2.0.0",
            "_model_name": "SliderStyleModel",
            "_view_count": null,
            "_view_module": "@jupyter-widgets/base",
            "_view_module_version": "2.0.0",
            "_view_name": "StyleView",
            "description_width": "",
            "handle_color": null
          }
        },
        "40f6e5f9cd334a9a8c0f9694b71d9d5f": {
          "model_module": "@jupyter-widgets/base",
          "model_name": "LayoutModel",
          "model_module_version": "2.0.0",
          "state": {
            "_model_module": "@jupyter-widgets/base",
            "_model_module_version": "2.0.0",
            "_model_name": "LayoutModel",
            "_view_count": null,
            "_view_module": "@jupyter-widgets/base",
            "_view_module_version": "2.0.0",
            "_view_name": "LayoutView",
            "align_content": null,
            "align_items": null,
            "align_self": null,
            "border_bottom": null,
            "border_left": null,
            "border_right": null,
            "border_top": null,
            "bottom": null,
            "display": null,
            "flex": null,
            "flex_flow": null,
            "grid_area": null,
            "grid_auto_columns": null,
            "grid_auto_flow": null,
            "grid_auto_rows": null,
            "grid_column": null,
            "grid_gap": null,
            "grid_row": null,
            "grid_template_areas": null,
            "grid_template_columns": null,
            "grid_template_rows": null,
            "height": null,
            "justify_content": null,
            "justify_items": null,
            "left": null,
            "margin": null,
            "max_height": null,
            "max_width": null,
            "min_height": null,
            "min_width": null,
            "object_fit": null,
            "object_position": null,
            "order": null,
            "overflow": null,
            "padding": null,
            "right": null,
            "top": null,
            "visibility": null,
            "width": null
          }
        },
        "6edf0c5397df4b539dd63f17de3ba08e": {
          "model_module": "@jupyter-widgets/controls",
          "model_name": "SliderStyleModel",
          "model_module_version": "2.0.0",
          "state": {
            "_model_module": "@jupyter-widgets/controls",
            "_model_module_version": "2.0.0",
            "_model_name": "SliderStyleModel",
            "_view_count": null,
            "_view_module": "@jupyter-widgets/base",
            "_view_module_version": "2.0.0",
            "_view_name": "StyleView",
            "description_width": "",
            "handle_color": null
          }
        }
      }
    }
  },
  "cells": [
    {
      "cell_type": "markdown",
      "source": [
        "# Code snippets for Ryan"
      ],
      "metadata": {
        "id": "nEIDURPap9II"
      }
    },
    {
      "cell_type": "markdown",
      "source": [
        "First, just doing some imports... "
      ],
      "metadata": {
        "id": "Gd7660Y3SHTF"
      }
    },
    {
      "cell_type": "code",
      "execution_count": null,
      "metadata": {
        "id": "ymsgXJ99pkjl"
      },
      "outputs": [],
      "source": [
        "import seaborn as sns\n",
        "import numpy as np\n",
        "import ipywidgets as widgets\n",
        "from IPython.display import display\n",
        "sns.set_theme()"
      ]
    },
    {
      "cell_type": "markdown",
      "source": [
        "## Basic Visualization\n",
        "This code gives a demonstration of the central limit theorem The Central Limit Theorem states that the sampling distribution of the sample means approaches a normal distribution as the sample size gets larger — no matter what the shape of the population distribution. \n",
        "\n",
        "This example uses a rectangular distribution...\n",
        "\n",
        "> `[0, 1, 2, 3, ... N]`\n",
        "\n",
        "Which is definitely **not** normally distributed.  "
      ],
      "metadata": {
        "id": "3z9hwTcYuTZ4"
      }
    },
    {
      "cell_type": "code",
      "source": [
        "def clt_demo(pop_size=None, n_samples=None, sample_size=None):\n",
        "  parent = np.array(range(pop_size))\n",
        "  means = np.empty(n_samples)\n",
        "\n",
        "  for i in range(n_samples):\n",
        "    sample = np.random.choice(parent, sample_size)\n",
        "    means[i] = sample.mean()\n",
        "  \n",
        "  return sns.displot(means, kde=True)\n",
        "\n",
        "\n",
        "clt_demo(pop_size=1000, n_samples=100, sample_size=50)"
      ],
      "metadata": {
        "colab": {
          "base_uri": "https://localhost:8080/",
          "height": 383
        },
        "id": "Viz92mxFrkuc",
        "outputId": "7b1a1f4e-80ba-4b92-b802-a30dc7c5bcf8"
      },
      "execution_count": null,
      "outputs": [
        {
          "output_type": "execute_result",
          "data": {
            "text/plain": [
              "<seaborn.axisgrid.FacetGrid at 0x7f1e00e3e390>"
            ]
          },
          "metadata": {},
          "execution_count": 8
        },
        {
          "output_type": "display_data",
          "data": {
            "text/plain": [
              "<Figure size 360x360 with 1 Axes>"
            ],
            "image/png": "[encoded data removed]"
          },
          "metadata": {}
        }
      ]
    },
    {
      "cell_type": "markdown",
      "source": [
        "## Interactive\n",
        "Parameterizing the same thing with widgets... "
      ],
      "metadata": {
        "id": "G7pdCiIluO1R"
      }
    },
    {
      "cell_type": "code",
      "source": [
        "style = {'description_width': 'initial'}\n",
        "\n",
        "slider1 = widgets.IntSlider(min=100, max=10000, step=100, value=1000, description=\"Parent\")\n",
        "slider2 = widgets.IntSlider(min=10, max=1000, step=10, value=100, description=\"# Samples\")\n",
        "slider3 = widgets.IntSlider(min=10, max=100, step=10, value=50, description=\"Sample Size\") \n",
        "\n",
        "\n",
        "ui = widgets.VBox([slider1, slider2, slider3])\n",
        "\n",
        "input_config = {\n",
        "    'pop_size': slider1, \n",
        "    'n_samples': slider2, \n",
        "    'sample_size': slider3\n",
        "}\n",
        "\n",
        "out = widgets.interactive_output(clt_demo, input_config)\n",
        "display(out, ui)"
      ],
      "metadata": {
        "colab": {
          "base_uri": "https://localhost:8080/",
          "height": 461,
          "referenced_widgets": [
            "5b95b816f527403ba5e8cd92e936ddc6",
            "2a916bc97490447eb2024e0a75ccc548",
            "32872fd155c54b20a1ec1b7a3ede16f3",
            "3da3cd47d43047b19faf197346364d00",
            "8a2a66686eeb46bcb31ac4745e851416",
            "43c82f8a23f444558d1d71964266a1d8",
            "913e03cd5698456ea8d5b2eb29a71fee",
            "cbe19013ccb64d26a034cf8c7b6c4a16",
            "ce51a718a59747809aaa6578a7ab50ad",
            "8769dbce993f4590a057e5c0503658db",
            "e957433311c54f65a040b1f5b127d0f4",
            "40f6e5f9cd334a9a8c0f9694b71d9d5f",
            "6edf0c5397df4b539dd63f17de3ba08e"
          ]
        },
        "id": "REFdGkV8C9yC",
        "outputId": "912e6754-1dec-49c2-ed81-28d900505783"
      },
      "execution_count": null,
      "outputs": [
        {
          "output_type": "display_data",
          "data": {
            "text/plain": [
              "Output()"
            ],
            "application/vnd.jupyter.widget-view+json": {
              "version_major": 2,
              "version_minor": 0,
              "model_id": "5b95b816f527403ba5e8cd92e936ddc6"
            }
          },
          "metadata": {}
        },
        {
          "output_type": "display_data",
          "data": {
            "text/plain": [
              "VBox(children=(IntSlider(value=1000, description='Parent', max=10000, min=100, step=100), IntSlider(value=100,…"
            ],
            "application/vnd.jupyter.widget-view+json": {
              "version_major": 2,
              "version_minor": 0,
              "model_id": "32872fd155c54b20a1ec1b7a3ede16f3"
            }
          },
          "metadata": {}
        }
      ]
    }
  ]
}